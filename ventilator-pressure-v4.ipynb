{
 "cells": [
  {
   "cell_type": "code",
   "execution_count": 1,
   "id": "de30ed65",
   "metadata": {
    "_cell_guid": "b1076dfc-b9ad-4769-8c92-a6c4dae69d19",
    "_uuid": "8f2839f25d086af736a60e9eeb907d3b93b6e0e5",
    "execution": {
     "iopub.execute_input": "2021-10-05T13:43:39.227011Z",
     "iopub.status.busy": "2021-10-05T13:43:39.225520Z",
     "iopub.status.idle": "2021-10-05T13:43:39.319913Z",
     "shell.execute_reply": "2021-10-05T13:43:39.319336Z",
     "shell.execute_reply.started": "2021-10-05T13:36:54.422692Z"
    },
    "papermill": {
     "duration": 0.125765,
     "end_time": "2021-10-05T13:43:39.320062",
     "exception": false,
     "start_time": "2021-10-05T13:43:39.194297",
     "status": "completed"
    },
    "tags": []
   },
   "outputs": [
    {
     "name": "stdout",
     "output_type": "stream",
     "text": [
      "/kaggle/input/ventilator-pressure-prediction/sample_submission.csv\n",
      "/kaggle/input/ventilator-pressure-prediction/train.csv\n",
      "/kaggle/input/ventilator-pressure-prediction/test.csv\n"
     ]
    }
   ],
   "source": [
    "# This Python 3 environment comes with many helpful analytics libraries installed\n",
    "# It is defined by the kaggle/python Docker image: https://github.com/kaggle/docker-python\n",
    "# For example, here's several helpful packages to load\n",
    "\n",
    "import numpy as np # linear algebra\n",
    "import pandas as pd # data processing, CSV file I/O (e.g. pd.read_csv)\n",
    "import matplotlib.pyplot as plt\n",
    "import os\n",
    "for dirname, _, filenames in os.walk('/kaggle/input'):\n",
    "    for filename in filenames:\n",
    "        print(os.path.join(dirname, filename))"
   ]
  },
  {
   "cell_type": "markdown",
   "id": "a6e561be",
   "metadata": {
    "papermill": {
     "duration": 0.015242,
     "end_time": "2021-10-05T13:43:39.352959",
     "exception": false,
     "start_time": "2021-10-05T13:43:39.337717",
     "status": "completed"
    },
    "tags": []
   },
   "source": [
    "# Prepare data"
   ]
  },
  {
   "cell_type": "code",
   "execution_count": 2,
   "id": "47890ceb",
   "metadata": {
    "execution": {
     "iopub.execute_input": "2021-10-05T13:43:39.387756Z",
     "iopub.status.busy": "2021-10-05T13:43:39.387155Z",
     "iopub.status.idle": "2021-10-05T13:43:52.415397Z",
     "shell.execute_reply": "2021-10-05T13:43:52.414935Z",
     "shell.execute_reply.started": "2021-10-05T13:36:54.459575Z"
    },
    "papermill": {
     "duration": 13.047066,
     "end_time": "2021-10-05T13:43:52.415524",
     "exception": false,
     "start_time": "2021-10-05T13:43:39.368458",
     "status": "completed"
    },
    "tags": []
   },
   "outputs": [
    {
     "name": "stderr",
     "output_type": "stream",
     "text": [
      "/opt/conda/lib/python3.7/site-packages/numpy/lib/arraysetops.py:580: FutureWarning: elementwise comparison failed; returning scalar instead, but in the future will perform elementwise comparison\n",
      "  mask |= (ar1 == a)\n"
     ]
    }
   ],
   "source": [
    "train_data = pd.read_csv('/kaggle/input/ventilator-pressure-prediction/train.csv',index_col=0)\n",
    "test_data = pd.read_csv('/kaggle/input/ventilator-pressure-prediction/test.csv',index_col=0)"
   ]
  },
  {
   "cell_type": "markdown",
   "id": "feb2e584",
   "metadata": {
    "papermill": {
     "duration": 0.015538,
     "end_time": "2021-10-05T13:43:52.447081",
     "exception": false,
     "start_time": "2021-10-05T13:43:52.431543",
     "status": "completed"
    },
    "tags": []
   },
   "source": [
    "Feature engineering"
   ]
  },
  {
   "cell_type": "code",
   "execution_count": 3,
   "id": "60f80580",
   "metadata": {
    "execution": {
     "iopub.execute_input": "2021-10-05T13:43:52.485998Z",
     "iopub.status.busy": "2021-10-05T13:43:52.485199Z",
     "iopub.status.idle": "2021-10-05T13:43:52.490501Z",
     "shell.execute_reply": "2021-10-05T13:43:52.490075Z",
     "shell.execute_reply.started": "2021-10-05T13:37:09.171373Z"
    },
    "papermill": {
     "duration": 0.027704,
     "end_time": "2021-10-05T13:43:52.490636",
     "exception": false,
     "start_time": "2021-10-05T13:43:52.462932",
     "status": "completed"
    },
    "tags": []
   },
   "outputs": [],
   "source": [
    "def add_attributes(df):\n",
    "    \n",
    "    def count_consecutive_out(y):\n",
    "        return y * (y.groupby((y != y.shift()).cumsum()).cumcount() + 1)\n",
    "    \n",
    "    C_COEFF_DIV = 1000\n",
    "    df['time_step_prev'] = df.groupby('breath_id')['time_step'].shift(1).fillna(0)\n",
    "    df['time_delta'] = df['time_step']-df['time_step_prev']\n",
    "    \n",
    "    df['u_in_prev'] = df.groupby('breath_id')['u_in'].shift(1).fillna(0)\n",
    "    df['u_out_prev'] = df.groupby('breath_id')['u_out'].shift(1).fillna(0)\n",
    "    \n",
    "    df['u_in_delta'] = ((df['u_in_prev']+df['u_in'])* df['time_delta'])/2    \n",
    "    df['coeff'] = 1/df['R'] + df['C']/C_COEFF_DIV#higher R -> harder to blow, higher C -> easier to blow\n",
    "    df['u_in_delta_coeff'] = df['u_in_delta']*df['coeff']\n",
    "    \n",
    "    #df['u_out_consec'] = df.groupby('breath_id')['u_out'].transform(count_consecutive_out)\n",
    "     \n",
    "    #df.drop([], axis=1, inplace=True)\n",
    "    return df"
   ]
  },
  {
   "cell_type": "code",
   "execution_count": 4,
   "id": "e1ad2f56",
   "metadata": {
    "execution": {
     "iopub.execute_input": "2021-10-05T13:43:52.532356Z",
     "iopub.status.busy": "2021-10-05T13:43:52.531558Z",
     "iopub.status.idle": "2021-10-05T13:43:53.483229Z",
     "shell.execute_reply": "2021-10-05T13:43:53.482679Z",
     "shell.execute_reply.started": "2021-10-05T13:37:09.185486Z"
    },
    "papermill": {
     "duration": 0.97694,
     "end_time": "2021-10-05T13:43:53.483387",
     "exception": false,
     "start_time": "2021-10-05T13:43:52.506447",
     "status": "completed"
    },
    "tags": []
   },
   "outputs": [
    {
     "data": {
      "text/html": [
       "<div>\n",
       "<style scoped>\n",
       "    .dataframe tbody tr th:only-of-type {\n",
       "        vertical-align: middle;\n",
       "    }\n",
       "\n",
       "    .dataframe tbody tr th {\n",
       "        vertical-align: top;\n",
       "    }\n",
       "\n",
       "    .dataframe thead th {\n",
       "        text-align: right;\n",
       "    }\n",
       "</style>\n",
       "<table border=\"1\" class=\"dataframe\">\n",
       "  <thead>\n",
       "    <tr style=\"text-align: right;\">\n",
       "      <th></th>\n",
       "      <th>breath_id</th>\n",
       "      <th>R</th>\n",
       "      <th>C</th>\n",
       "      <th>time_step</th>\n",
       "      <th>u_in</th>\n",
       "      <th>u_out</th>\n",
       "      <th>pressure</th>\n",
       "      <th>time_step_prev</th>\n",
       "      <th>time_delta</th>\n",
       "      <th>u_in_prev</th>\n",
       "      <th>u_out_prev</th>\n",
       "      <th>u_in_delta</th>\n",
       "      <th>coeff</th>\n",
       "      <th>u_in_delta_coeff</th>\n",
       "    </tr>\n",
       "    <tr>\n",
       "      <th>id</th>\n",
       "      <th></th>\n",
       "      <th></th>\n",
       "      <th></th>\n",
       "      <th></th>\n",
       "      <th></th>\n",
       "      <th></th>\n",
       "      <th></th>\n",
       "      <th></th>\n",
       "      <th></th>\n",
       "      <th></th>\n",
       "      <th></th>\n",
       "      <th></th>\n",
       "      <th></th>\n",
       "      <th></th>\n",
       "    </tr>\n",
       "  </thead>\n",
       "  <tbody>\n",
       "    <tr>\n",
       "      <th>1</th>\n",
       "      <td>1</td>\n",
       "      <td>20</td>\n",
       "      <td>50</td>\n",
       "      <td>0.000000</td>\n",
       "      <td>0.083334</td>\n",
       "      <td>0</td>\n",
       "      <td>5.837492</td>\n",
       "      <td>0.000000</td>\n",
       "      <td>0.000000</td>\n",
       "      <td>0.000000</td>\n",
       "      <td>0.0</td>\n",
       "      <td>0.000000</td>\n",
       "      <td>0.1</td>\n",
       "      <td>0.000000</td>\n",
       "    </tr>\n",
       "    <tr>\n",
       "      <th>2</th>\n",
       "      <td>1</td>\n",
       "      <td>20</td>\n",
       "      <td>50</td>\n",
       "      <td>0.033652</td>\n",
       "      <td>18.383041</td>\n",
       "      <td>0</td>\n",
       "      <td>5.907794</td>\n",
       "      <td>0.000000</td>\n",
       "      <td>0.033652</td>\n",
       "      <td>0.083334</td>\n",
       "      <td>0.0</td>\n",
       "      <td>0.310718</td>\n",
       "      <td>0.1</td>\n",
       "      <td>0.031072</td>\n",
       "    </tr>\n",
       "    <tr>\n",
       "      <th>3</th>\n",
       "      <td>1</td>\n",
       "      <td>20</td>\n",
       "      <td>50</td>\n",
       "      <td>0.067514</td>\n",
       "      <td>22.509278</td>\n",
       "      <td>0</td>\n",
       "      <td>7.876254</td>\n",
       "      <td>0.033652</td>\n",
       "      <td>0.033862</td>\n",
       "      <td>18.383041</td>\n",
       "      <td>0.0</td>\n",
       "      <td>0.692350</td>\n",
       "      <td>0.1</td>\n",
       "      <td>0.069235</td>\n",
       "    </tr>\n",
       "    <tr>\n",
       "      <th>4</th>\n",
       "      <td>1</td>\n",
       "      <td>20</td>\n",
       "      <td>50</td>\n",
       "      <td>0.101542</td>\n",
       "      <td>22.808822</td>\n",
       "      <td>0</td>\n",
       "      <td>11.742872</td>\n",
       "      <td>0.067514</td>\n",
       "      <td>0.034028</td>\n",
       "      <td>22.509278</td>\n",
       "      <td>0.0</td>\n",
       "      <td>0.771038</td>\n",
       "      <td>0.1</td>\n",
       "      <td>0.077104</td>\n",
       "    </tr>\n",
       "    <tr>\n",
       "      <th>5</th>\n",
       "      <td>1</td>\n",
       "      <td>20</td>\n",
       "      <td>50</td>\n",
       "      <td>0.135756</td>\n",
       "      <td>25.355850</td>\n",
       "      <td>0</td>\n",
       "      <td>12.234987</td>\n",
       "      <td>0.101542</td>\n",
       "      <td>0.034213</td>\n",
       "      <td>22.808822</td>\n",
       "      <td>0.0</td>\n",
       "      <td>0.823936</td>\n",
       "      <td>0.1</td>\n",
       "      <td>0.082394</td>\n",
       "    </tr>\n",
       "    <tr>\n",
       "      <th>6</th>\n",
       "      <td>1</td>\n",
       "      <td>20</td>\n",
       "      <td>50</td>\n",
       "      <td>0.169698</td>\n",
       "      <td>27.259866</td>\n",
       "      <td>0</td>\n",
       "      <td>12.867706</td>\n",
       "      <td>0.135756</td>\n",
       "      <td>0.033942</td>\n",
       "      <td>25.355850</td>\n",
       "      <td>0.0</td>\n",
       "      <td>0.892947</td>\n",
       "      <td>0.1</td>\n",
       "      <td>0.089295</td>\n",
       "    </tr>\n",
       "    <tr>\n",
       "      <th>7</th>\n",
       "      <td>1</td>\n",
       "      <td>20</td>\n",
       "      <td>50</td>\n",
       "      <td>0.203708</td>\n",
       "      <td>27.127486</td>\n",
       "      <td>0</td>\n",
       "      <td>14.695562</td>\n",
       "      <td>0.169698</td>\n",
       "      <td>0.034010</td>\n",
       "      <td>27.259866</td>\n",
       "      <td>0.0</td>\n",
       "      <td>0.924862</td>\n",
       "      <td>0.1</td>\n",
       "      <td>0.092486</td>\n",
       "    </tr>\n",
       "    <tr>\n",
       "      <th>8</th>\n",
       "      <td>1</td>\n",
       "      <td>20</td>\n",
       "      <td>50</td>\n",
       "      <td>0.237723</td>\n",
       "      <td>26.807732</td>\n",
       "      <td>0</td>\n",
       "      <td>15.890699</td>\n",
       "      <td>0.203708</td>\n",
       "      <td>0.034015</td>\n",
       "      <td>27.127486</td>\n",
       "      <td>0.0</td>\n",
       "      <td>0.917295</td>\n",
       "      <td>0.1</td>\n",
       "      <td>0.091730</td>\n",
       "    </tr>\n",
       "    <tr>\n",
       "      <th>9</th>\n",
       "      <td>1</td>\n",
       "      <td>20</td>\n",
       "      <td>50</td>\n",
       "      <td>0.271776</td>\n",
       "      <td>27.864715</td>\n",
       "      <td>0</td>\n",
       "      <td>15.539188</td>\n",
       "      <td>0.237723</td>\n",
       "      <td>0.034054</td>\n",
       "      <td>26.807732</td>\n",
       "      <td>0.0</td>\n",
       "      <td>0.930902</td>\n",
       "      <td>0.1</td>\n",
       "      <td>0.093090</td>\n",
       "    </tr>\n",
       "    <tr>\n",
       "      <th>10</th>\n",
       "      <td>1</td>\n",
       "      <td>20</td>\n",
       "      <td>50</td>\n",
       "      <td>0.305732</td>\n",
       "      <td>28.313036</td>\n",
       "      <td>0</td>\n",
       "      <td>15.750094</td>\n",
       "      <td>0.271776</td>\n",
       "      <td>0.033955</td>\n",
       "      <td>27.864715</td>\n",
       "      <td>0.0</td>\n",
       "      <td>0.953767</td>\n",
       "      <td>0.1</td>\n",
       "      <td>0.095377</td>\n",
       "    </tr>\n",
       "  </tbody>\n",
       "</table>\n",
       "</div>"
      ],
      "text/plain": [
       "    breath_id   R   C  time_step       u_in  u_out   pressure  time_step_prev  \\\n",
       "id                                                                              \n",
       "1           1  20  50   0.000000   0.083334      0   5.837492        0.000000   \n",
       "2           1  20  50   0.033652  18.383041      0   5.907794        0.000000   \n",
       "3           1  20  50   0.067514  22.509278      0   7.876254        0.033652   \n",
       "4           1  20  50   0.101542  22.808822      0  11.742872        0.067514   \n",
       "5           1  20  50   0.135756  25.355850      0  12.234987        0.101542   \n",
       "6           1  20  50   0.169698  27.259866      0  12.867706        0.135756   \n",
       "7           1  20  50   0.203708  27.127486      0  14.695562        0.169698   \n",
       "8           1  20  50   0.237723  26.807732      0  15.890699        0.203708   \n",
       "9           1  20  50   0.271776  27.864715      0  15.539188        0.237723   \n",
       "10          1  20  50   0.305732  28.313036      0  15.750094        0.271776   \n",
       "\n",
       "    time_delta  u_in_prev  u_out_prev  u_in_delta  coeff  u_in_delta_coeff  \n",
       "id                                                                          \n",
       "1     0.000000   0.000000         0.0    0.000000    0.1          0.000000  \n",
       "2     0.033652   0.083334         0.0    0.310718    0.1          0.031072  \n",
       "3     0.033862  18.383041         0.0    0.692350    0.1          0.069235  \n",
       "4     0.034028  22.509278         0.0    0.771038    0.1          0.077104  \n",
       "5     0.034213  22.808822         0.0    0.823936    0.1          0.082394  \n",
       "6     0.033942  25.355850         0.0    0.892947    0.1          0.089295  \n",
       "7     0.034010  27.259866         0.0    0.924862    0.1          0.092486  \n",
       "8     0.034015  27.127486         0.0    0.917295    0.1          0.091730  \n",
       "9     0.034054  26.807732         0.0    0.930902    0.1          0.093090  \n",
       "10    0.033955  27.864715         0.0    0.953767    0.1          0.095377  "
      ]
     },
     "execution_count": 4,
     "metadata": {},
     "output_type": "execute_result"
    }
   ],
   "source": [
    "train_data = add_attributes(train_data)\n",
    "train_data.head(10)"
   ]
  },
  {
   "cell_type": "code",
   "execution_count": 5,
   "id": "d2691e5a",
   "metadata": {
    "execution": {
     "iopub.execute_input": "2021-10-05T13:43:53.558462Z",
     "iopub.status.busy": "2021-10-05T13:43:53.557543Z",
     "iopub.status.idle": "2021-10-05T13:43:54.152760Z",
     "shell.execute_reply": "2021-10-05T13:43:54.153941Z",
     "shell.execute_reply.started": "2021-10-05T13:37:10.217727Z"
    },
    "papermill": {
     "duration": 0.642108,
     "end_time": "2021-10-05T13:43:54.154156",
     "exception": false,
     "start_time": "2021-10-05T13:43:53.512048",
     "status": "completed"
    },
    "tags": []
   },
   "outputs": [],
   "source": [
    "y_train = train_data['pressure']\n",
    "X_train = train_data.drop(['pressure','breath_id'],axis=1)"
   ]
  },
  {
   "cell_type": "code",
   "execution_count": 6,
   "id": "044c8b08",
   "metadata": {
    "execution": {
     "iopub.execute_input": "2021-10-05T13:43:54.209919Z",
     "iopub.status.busy": "2021-10-05T13:43:54.208943Z",
     "iopub.status.idle": "2021-10-05T13:43:55.041539Z",
     "shell.execute_reply": "2021-10-05T13:43:55.040949Z",
     "shell.execute_reply.started": "2021-10-05T13:37:10.792022Z"
    },
    "papermill": {
     "duration": 0.861463,
     "end_time": "2021-10-05T13:43:55.041691",
     "exception": false,
     "start_time": "2021-10-05T13:43:54.180228",
     "status": "completed"
    },
    "tags": []
   },
   "outputs": [],
   "source": [
    "test_data = add_attributes(test_data)\n",
    "X_test = test_data.drop(['breath_id'],axis=1)"
   ]
  },
  {
   "cell_type": "code",
   "execution_count": 7,
   "id": "aad9274d",
   "metadata": {
    "execution": {
     "iopub.execute_input": "2021-10-05T13:43:55.079865Z",
     "iopub.status.busy": "2021-10-05T13:43:55.079233Z",
     "iopub.status.idle": "2021-10-05T13:43:58.320297Z",
     "shell.execute_reply": "2021-10-05T13:43:58.319379Z",
     "shell.execute_reply.started": "2021-10-05T13:37:11.684683Z"
    },
    "papermill": {
     "duration": 3.262024,
     "end_time": "2021-10-05T13:43:58.320441",
     "exception": false,
     "start_time": "2021-10-05T13:43:55.058417",
     "status": "completed"
    },
    "tags": []
   },
   "outputs": [],
   "source": [
    "from sklearn.preprocessing import RobustScaler\n",
    "RS = RobustScaler()\n",
    "X_train = RS.fit_transform(X_train)\n",
    "X_test = RS.transform(X_test)"
   ]
  },
  {
   "cell_type": "code",
   "execution_count": 8,
   "id": "8aefbb2b",
   "metadata": {
    "execution": {
     "iopub.execute_input": "2021-10-05T13:43:58.359000Z",
     "iopub.status.busy": "2021-10-05T13:43:58.357486Z",
     "iopub.status.idle": "2021-10-05T13:43:58.359688Z",
     "shell.execute_reply": "2021-10-05T13:43:58.360101Z",
     "shell.execute_reply.started": "2021-10-05T13:37:15.486452Z"
    },
    "papermill": {
     "duration": 0.022649,
     "end_time": "2021-10-05T13:43:58.360223",
     "exception": false,
     "start_time": "2021-10-05T13:43:58.337574",
     "status": "completed"
    },
    "tags": []
   },
   "outputs": [],
   "source": [
    "STEPS = 80\n",
    "N_FEATURES = X_train.shape[1]"
   ]
  },
  {
   "cell_type": "code",
   "execution_count": 9,
   "id": "50601a92",
   "metadata": {
    "execution": {
     "iopub.execute_input": "2021-10-05T13:43:58.397568Z",
     "iopub.status.busy": "2021-10-05T13:43:58.396823Z",
     "iopub.status.idle": "2021-10-05T13:43:58.398867Z",
     "shell.execute_reply": "2021-10-05T13:43:58.399261Z",
     "shell.execute_reply.started": "2021-10-05T13:37:15.494325Z"
    },
    "papermill": {
     "duration": 0.022517,
     "end_time": "2021-10-05T13:43:58.399384",
     "exception": false,
     "start_time": "2021-10-05T13:43:58.376867",
     "status": "completed"
    },
    "tags": []
   },
   "outputs": [],
   "source": [
    "y_train = y_train.values.reshape(-1,STEPS)\n",
    "X_train = X_train.reshape(-1,STEPS,N_FEATURES)\n",
    "X_test = X_test.reshape(-1,STEPS,N_FEATURES)"
   ]
  },
  {
   "cell_type": "markdown",
   "id": "f3632ca9",
   "metadata": {
    "papermill": {
     "duration": 0.015876,
     "end_time": "2021-10-05T13:43:58.431850",
     "exception": false,
     "start_time": "2021-10-05T13:43:58.415974",
     "status": "completed"
    },
    "tags": []
   },
   "source": [
    "# Prepare model"
   ]
  },
  {
   "cell_type": "code",
   "execution_count": 10,
   "id": "9e627a4b",
   "metadata": {
    "execution": {
     "iopub.execute_input": "2021-10-05T13:43:58.468081Z",
     "iopub.status.busy": "2021-10-05T13:43:58.467480Z",
     "iopub.status.idle": "2021-10-05T13:44:02.344806Z",
     "shell.execute_reply": "2021-10-05T13:44:02.344247Z",
     "shell.execute_reply.started": "2021-10-05T13:37:15.509506Z"
    },
    "papermill": {
     "duration": 3.896962,
     "end_time": "2021-10-05T13:44:02.344939",
     "exception": false,
     "start_time": "2021-10-05T13:43:58.447977",
     "status": "completed"
    },
    "tags": []
   },
   "outputs": [
    {
     "name": "stderr",
     "output_type": "stream",
     "text": [
      "2021-10-05 13:43:58.935093: I tensorflow/stream_executor/platform/default/dso_loader.cc:49] Successfully opened dynamic library libcudart.so.11.0\n"
     ]
    }
   ],
   "source": [
    "import tensorflow as tf\n",
    "from tensorflow import keras\n",
    "from tensorflow.keras.layers import InputLayer,Dense,LSTM,Dropout,Flatten,Bidirectional"
   ]
  },
  {
   "cell_type": "code",
   "execution_count": 11,
   "id": "b01f0918",
   "metadata": {
    "execution": {
     "iopub.execute_input": "2021-10-05T13:44:02.385961Z",
     "iopub.status.busy": "2021-10-05T13:44:02.385184Z",
     "iopub.status.idle": "2021-10-05T13:44:02.387146Z",
     "shell.execute_reply": "2021-10-05T13:44:02.387552Z",
     "shell.execute_reply.started": "2021-10-05T13:37:20.735944Z"
    },
    "papermill": {
     "duration": 0.025439,
     "end_time": "2021-10-05T13:44:02.387706",
     "exception": false,
     "start_time": "2021-10-05T13:44:02.362267",
     "status": "completed"
    },
    "tags": []
   },
   "outputs": [],
   "source": [
    "def get_model():\n",
    "    model = keras.Sequential([\n",
    "        InputLayer(input_shape=X_train.shape[-2:]),\n",
    "        Bidirectional(LSTM(1024, return_sequences=True)),\n",
    "        Bidirectional(LSTM(512, return_sequences=True)),\n",
    "        Bidirectional(LSTM(256, return_sequences=True)),\n",
    "        Bidirectional(LSTM(128, return_sequences=True)),\n",
    "        #Flatten(),\n",
    "        Dense(128, activation=\"selu\"),\n",
    "        #Dropout(0.3),\n",
    "        #Dense(150, activation=\"swish\"),\n",
    "        #Dropout(0.2),\n",
    "        Dense(1)#, activation=\"selu\")\n",
    "    ])\n",
    "    model.compile(optimizer=keras.optimizers.Adam(learning_rate=1e-3),\n",
    "                  loss='mean_squared_error',metrics=['mse','mae'])\n",
    "    return model"
   ]
  },
  {
   "cell_type": "code",
   "execution_count": 12,
   "id": "829e1c7c",
   "metadata": {
    "execution": {
     "iopub.execute_input": "2021-10-05T13:44:02.425483Z",
     "iopub.status.busy": "2021-10-05T13:44:02.424835Z",
     "iopub.status.idle": "2021-10-05T13:44:02.427396Z",
     "shell.execute_reply": "2021-10-05T13:44:02.427891Z",
     "shell.execute_reply.started": "2021-10-05T13:37:20.745937Z"
    },
    "papermill": {
     "duration": 0.023492,
     "end_time": "2021-10-05T13:44:02.428005",
     "exception": false,
     "start_time": "2021-10-05T13:44:02.404513",
     "status": "completed"
    },
    "tags": []
   },
   "outputs": [
    {
     "data": {
      "text/plain": [
       "'\\ntpu = tf.distribute.cluster_resolver.TPUClusterResolver.connect()\\ntpu_strategy = tf.distribute.experimental.TPUStrategy(tpu)\\n\\nwith tpu_strategy.scope():\\n    model = get_model()\\n'"
      ]
     },
     "execution_count": 12,
     "metadata": {},
     "output_type": "execute_result"
    }
   ],
   "source": [
    "'''\n",
    "tpu = tf.distribute.cluster_resolver.TPUClusterResolver.connect()\n",
    "tpu_strategy = tf.distribute.experimental.TPUStrategy(tpu)\n",
    "\n",
    "with tpu_strategy.scope():\n",
    "    model = get_model()\n",
    "'''"
   ]
  },
  {
   "cell_type": "markdown",
   "id": "361639c2",
   "metadata": {
    "papermill": {
     "duration": 0.017101,
     "end_time": "2021-10-05T13:44:02.461849",
     "exception": false,
     "start_time": "2021-10-05T13:44:02.444748",
     "status": "completed"
    },
    "tags": []
   },
   "source": [
    "Train and make predictions within 5-fold cross validation"
   ]
  },
  {
   "cell_type": "code",
   "execution_count": 13,
   "id": "4a31ace4",
   "metadata": {
    "execution": {
     "iopub.execute_input": "2021-10-05T13:44:02.501210Z",
     "iopub.status.busy": "2021-10-05T13:44:02.500606Z",
     "iopub.status.idle": "2021-10-05T13:44:02.542611Z",
     "shell.execute_reply": "2021-10-05T13:44:02.542221Z",
     "shell.execute_reply.started": "2021-10-05T13:37:20.762448Z"
    },
    "papermill": {
     "duration": 0.062587,
     "end_time": "2021-10-05T13:44:02.542750",
     "exception": false,
     "start_time": "2021-10-05T13:44:02.480163",
     "status": "completed"
    },
    "tags": []
   },
   "outputs": [],
   "source": [
    "from sklearn.model_selection import KFold"
   ]
  },
  {
   "cell_type": "code",
   "execution_count": 14,
   "id": "048ada42",
   "metadata": {
    "execution": {
     "iopub.execute_input": "2021-10-05T13:44:02.581741Z",
     "iopub.status.busy": "2021-10-05T13:44:02.579418Z",
     "iopub.status.idle": "2021-10-05T13:44:02.584839Z",
     "shell.execute_reply": "2021-10-05T13:44:02.584408Z",
     "shell.execute_reply.started": "2021-10-05T13:37:20.821740Z"
    },
    "papermill": {
     "duration": 0.025333,
     "end_time": "2021-10-05T13:44:02.584939",
     "exception": false,
     "start_time": "2021-10-05T13:44:02.559606",
     "status": "completed"
    },
    "tags": []
   },
   "outputs": [
    {
     "data": {
      "text/plain": [
       "'\\nkf = KFold(n_splits=5, shuffle=True, random_state=2137)\\ntest_predictions = []\\nfor fold, (train_idx, test_idx) in enumerate(kf.split(X_train, y_train)):\\n    print(\\'Fold \\',fold,\\' of 5\\')\\n    X_t, X_val = X_train[train_idx], X_train[test_idx]\\n    y_t, y_val = y_train[train_idx], y_train[test_idx]\\n    \\n    #callback_1 = keras.callbacks.EarlyStopping(monitor=\"val_loss\", patience=10, restore_best_weights=True)\\n    model = get_model()\\n    history = model.fit(X_t, y_t, \\n                  validation_data=(X_val, y_val), \\n                  epochs=100, batch_size=512,\\n                  verbose=1)\\n    \\n    plt.figure(figsize=(15,5))\\n    loss=history.history[\\'loss\\']\\n    val_loss=history.history[\\'val_loss\\']\\n    epoch = range(1,len(loss)+1)\\n    plt.plot(epoch, loss, \\'r\\' , label=\"Training\")\\n    plt.plot(epoch, val_loss, \\'b\\', label=\"Validation\")\\n    plt.legend()\\n    plt.xlabel(\"Epochs\")\\n    plt.ylabel(\"Loss\")\\n    plt.title(\\'Training and validation loss\\')\\n    plt.show()\\n    test_predictions.append(model.predict(X_test).squeeze().reshape(-1, 1).squeeze())\\n'"
      ]
     },
     "execution_count": 14,
     "metadata": {},
     "output_type": "execute_result"
    }
   ],
   "source": [
    "'''\n",
    "kf = KFold(n_splits=5, shuffle=True, random_state=2137)\n",
    "test_predictions = []\n",
    "for fold, (train_idx, test_idx) in enumerate(kf.split(X_train, y_train)):\n",
    "    print('Fold ',fold,' of 5')\n",
    "    X_t, X_val = X_train[train_idx], X_train[test_idx]\n",
    "    y_t, y_val = y_train[train_idx], y_train[test_idx]\n",
    "    \n",
    "    #callback_1 = keras.callbacks.EarlyStopping(monitor=\"val_loss\", patience=10, restore_best_weights=True)\n",
    "    model = get_model()\n",
    "    history = model.fit(X_t, y_t, \n",
    "                  validation_data=(X_val, y_val), \n",
    "                  epochs=100, batch_size=512,\n",
    "                  verbose=1)\n",
    "    \n",
    "    plt.figure(figsize=(15,5))\n",
    "    loss=history.history['loss']\n",
    "    val_loss=history.history['val_loss']\n",
    "    epoch = range(1,len(loss)+1)\n",
    "    plt.plot(epoch, loss, 'r' , label=\"Training\")\n",
    "    plt.plot(epoch, val_loss, 'b', label=\"Validation\")\n",
    "    plt.legend()\n",
    "    plt.xlabel(\"Epochs\")\n",
    "    plt.ylabel(\"Loss\")\n",
    "    plt.title('Training and validation loss')\n",
    "    plt.show()\n",
    "    test_predictions.append(model.predict(X_test).squeeze().reshape(-1, 1).squeeze())\n",
    "'''"
   ]
  },
  {
   "cell_type": "markdown",
   "id": "00e1494b",
   "metadata": {
    "papermill": {
     "duration": 0.017212,
     "end_time": "2021-10-05T13:44:02.619406",
     "exception": false,
     "start_time": "2021-10-05T13:44:02.602194",
     "status": "completed"
    },
    "tags": []
   },
   "source": [
    "Add callback to save weights that contributed to the best achieved loss"
   ]
  },
  {
   "cell_type": "code",
   "execution_count": 15,
   "id": "4bea2145",
   "metadata": {
    "execution": {
     "iopub.execute_input": "2021-10-05T13:44:02.658547Z",
     "iopub.status.busy": "2021-10-05T13:44:02.657745Z",
     "iopub.status.idle": "2021-10-05T13:44:02.659751Z",
     "shell.execute_reply": "2021-10-05T13:44:02.660140Z",
     "shell.execute_reply.started": "2021-10-05T13:37:20.830862Z"
    },
    "papermill": {
     "duration": 0.02339,
     "end_time": "2021-10-05T13:44:02.660252",
     "exception": false,
     "start_time": "2021-10-05T13:44:02.636862",
     "status": "completed"
    },
    "tags": []
   },
   "outputs": [],
   "source": [
    "checkpoint_filepath = '/tmp/checkpoint'\n",
    "model_checkpoint_callback = tf.keras.callbacks.ModelCheckpoint(\n",
    "    filepath=checkpoint_filepath,\n",
    "    save_weights_only=True,\n",
    "    monitor='loss',\n",
    "    mode='min',\n",
    "    save_best_only=True)"
   ]
  },
  {
   "cell_type": "code",
   "execution_count": 16,
   "id": "d166e92c",
   "metadata": {
    "execution": {
     "iopub.execute_input": "2021-10-05T13:44:02.698524Z",
     "iopub.status.busy": "2021-10-05T13:44:02.697859Z",
     "iopub.status.idle": "2021-10-05T15:54:00.192363Z",
     "shell.execute_reply": "2021-10-05T15:54:00.192801Z"
    },
    "papermill": {
     "duration": 7797.515674,
     "end_time": "2021-10-05T15:54:00.192992",
     "exception": false,
     "start_time": "2021-10-05T13:44:02.677318",
     "status": "completed"
    },
    "tags": []
   },
   "outputs": [
    {
     "name": "stderr",
     "output_type": "stream",
     "text": [
      "2021-10-05 13:44:02.716190: I tensorflow/compiler/jit/xla_cpu_device.cc:41] Not creating XLA devices, tf_xla_enable_xla_devices not set\n",
      "2021-10-05 13:44:02.719203: I tensorflow/stream_executor/platform/default/dso_loader.cc:49] Successfully opened dynamic library libcuda.so.1\n",
      "2021-10-05 13:44:02.762724: I tensorflow/stream_executor/cuda/cuda_gpu_executor.cc:941] successful NUMA node read from SysFS had negative value (-1), but there must be at least one NUMA node, so returning NUMA node zero\n",
      "2021-10-05 13:44:02.763363: I tensorflow/core/common_runtime/gpu/gpu_device.cc:1720] Found device 0 with properties: \n",
      "pciBusID: 0000:00:04.0 name: Tesla P100-PCIE-16GB computeCapability: 6.0\n",
      "coreClock: 1.3285GHz coreCount: 56 deviceMemorySize: 15.90GiB deviceMemoryBandwidth: 681.88GiB/s\n",
      "2021-10-05 13:44:02.763424: I tensorflow/stream_executor/platform/default/dso_loader.cc:49] Successfully opened dynamic library libcudart.so.11.0\n",
      "2021-10-05 13:44:02.789250: I tensorflow/stream_executor/platform/default/dso_loader.cc:49] Successfully opened dynamic library libcublas.so.11\n",
      "2021-10-05 13:44:02.789345: I tensorflow/stream_executor/platform/default/dso_loader.cc:49] Successfully opened dynamic library libcublasLt.so.11\n",
      "2021-10-05 13:44:02.803733: I tensorflow/stream_executor/platform/default/dso_loader.cc:49] Successfully opened dynamic library libcufft.so.10\n",
      "2021-10-05 13:44:02.813087: I tensorflow/stream_executor/platform/default/dso_loader.cc:49] Successfully opened dynamic library libcurand.so.10\n",
      "2021-10-05 13:44:02.837524: I tensorflow/stream_executor/platform/default/dso_loader.cc:49] Successfully opened dynamic library libcusolver.so.10\n",
      "2021-10-05 13:44:02.844658: I tensorflow/stream_executor/platform/default/dso_loader.cc:49] Successfully opened dynamic library libcusparse.so.11\n",
      "2021-10-05 13:44:02.848707: I tensorflow/stream_executor/platform/default/dso_loader.cc:49] Successfully opened dynamic library libcudnn.so.8\n",
      "2021-10-05 13:44:02.848885: I tensorflow/stream_executor/cuda/cuda_gpu_executor.cc:941] successful NUMA node read from SysFS had negative value (-1), but there must be at least one NUMA node, so returning NUMA node zero\n",
      "2021-10-05 13:44:02.849572: I tensorflow/stream_executor/cuda/cuda_gpu_executor.cc:941] successful NUMA node read from SysFS had negative value (-1), but there must be at least one NUMA node, so returning NUMA node zero\n",
      "2021-10-05 13:44:02.850819: I tensorflow/core/common_runtime/gpu/gpu_device.cc:1862] Adding visible gpu devices: 0\n",
      "2021-10-05 13:44:02.851740: I tensorflow/core/platform/cpu_feature_guard.cc:142] This TensorFlow binary is optimized with oneAPI Deep Neural Network Library (oneDNN) to use the following CPU instructions in performance-critical operations:  AVX2 AVX512F FMA\n",
      "To enable them in other operations, rebuild TensorFlow with the appropriate compiler flags.\n",
      "2021-10-05 13:44:02.851959: I tensorflow/compiler/jit/xla_gpu_device.cc:99] Not creating XLA devices, tf_xla_enable_xla_devices not set\n",
      "2021-10-05 13:44:02.852135: I tensorflow/stream_executor/cuda/cuda_gpu_executor.cc:941] successful NUMA node read from SysFS had negative value (-1), but there must be at least one NUMA node, so returning NUMA node zero\n",
      "2021-10-05 13:44:02.852799: I tensorflow/core/common_runtime/gpu/gpu_device.cc:1720] Found device 0 with properties: \n",
      "pciBusID: 0000:00:04.0 name: Tesla P100-PCIE-16GB computeCapability: 6.0\n",
      "coreClock: 1.3285GHz coreCount: 56 deviceMemorySize: 15.90GiB deviceMemoryBandwidth: 681.88GiB/s\n",
      "2021-10-05 13:44:02.852857: I tensorflow/stream_executor/platform/default/dso_loader.cc:49] Successfully opened dynamic library libcudart.so.11.0\n",
      "2021-10-05 13:44:02.852895: I tensorflow/stream_executor/platform/default/dso_loader.cc:49] Successfully opened dynamic library libcublas.so.11\n",
      "2021-10-05 13:44:02.852932: I tensorflow/stream_executor/platform/default/dso_loader.cc:49] Successfully opened dynamic library libcublasLt.so.11\n",
      "2021-10-05 13:44:02.852959: I tensorflow/stream_executor/platform/default/dso_loader.cc:49] Successfully opened dynamic library libcufft.so.10\n",
      "2021-10-05 13:44:02.852986: I tensorflow/stream_executor/platform/default/dso_loader.cc:49] Successfully opened dynamic library libcurand.so.10\n",
      "2021-10-05 13:44:02.853012: I tensorflow/stream_executor/platform/default/dso_loader.cc:49] Successfully opened dynamic library libcusolver.so.10\n",
      "2021-10-05 13:44:02.853039: I tensorflow/stream_executor/platform/default/dso_loader.cc:49] Successfully opened dynamic library libcusparse.so.11\n",
      "2021-10-05 13:44:02.853065: I tensorflow/stream_executor/platform/default/dso_loader.cc:49] Successfully opened dynamic library libcudnn.so.8\n",
      "2021-10-05 13:44:02.853160: I tensorflow/stream_executor/cuda/cuda_gpu_executor.cc:941] successful NUMA node read from SysFS had negative value (-1), but there must be at least one NUMA node, so returning NUMA node zero\n",
      "2021-10-05 13:44:02.853917: I tensorflow/stream_executor/cuda/cuda_gpu_executor.cc:941] successful NUMA node read from SysFS had negative value (-1), but there must be at least one NUMA node, so returning NUMA node zero\n",
      "2021-10-05 13:44:02.854451: I tensorflow/core/common_runtime/gpu/gpu_device.cc:1862] Adding visible gpu devices: 0\n",
      "2021-10-05 13:44:02.855296: I tensorflow/stream_executor/platform/default/dso_loader.cc:49] Successfully opened dynamic library libcudart.so.11.0\n",
      "2021-10-05 13:44:04.225393: I tensorflow/core/common_runtime/gpu/gpu_device.cc:1261] Device interconnect StreamExecutor with strength 1 edge matrix:\n",
      "2021-10-05 13:44:04.225450: I tensorflow/core/common_runtime/gpu/gpu_device.cc:1267]      0 \n",
      "2021-10-05 13:44:04.225462: I tensorflow/core/common_runtime/gpu/gpu_device.cc:1280] 0:   N \n",
      "2021-10-05 13:44:04.227637: I tensorflow/stream_executor/cuda/cuda_gpu_executor.cc:941] successful NUMA node read from SysFS had negative value (-1), but there must be at least one NUMA node, so returning NUMA node zero\n",
      "2021-10-05 13:44:04.228391: I tensorflow/stream_executor/cuda/cuda_gpu_executor.cc:941] successful NUMA node read from SysFS had negative value (-1), but there must be at least one NUMA node, so returning NUMA node zero\n",
      "2021-10-05 13:44:04.229073: I tensorflow/stream_executor/cuda/cuda_gpu_executor.cc:941] successful NUMA node read from SysFS had negative value (-1), but there must be at least one NUMA node, so returning NUMA node zero\n",
      "2021-10-05 13:44:04.229685: I tensorflow/core/common_runtime/gpu/gpu_device.cc:1406] Created TensorFlow device (/job:localhost/replica:0/task:0/device:GPU:0 with 14957 MB memory) -> physical GPU (device: 0, name: Tesla P100-PCIE-16GB, pci bus id: 0000:00:04.0, compute capability: 6.0)\n",
      "2021-10-05 13:44:09.136485: I tensorflow/compiler/mlir/mlir_graph_optimization_pass.cc:116] None of the MLIR optimization passes are enabled (registered 2)\n",
      "2021-10-05 13:44:09.145865: I tensorflow/core/platform/profile_utils/cpu_utils.cc:112] CPU Frequency: 2000150000 Hz\n"
     ]
    },
    {
     "name": "stdout",
     "output_type": "stream",
     "text": [
      "Epoch 1/60\n"
     ]
    },
    {
     "name": "stderr",
     "output_type": "stream",
     "text": [
      "2021-10-05 13:44:18.318726: I tensorflow/stream_executor/platform/default/dso_loader.cc:49] Successfully opened dynamic library libcublas.so.11\n",
      "2021-10-05 13:44:19.094053: I tensorflow/stream_executor/platform/default/dso_loader.cc:49] Successfully opened dynamic library libcublasLt.so.11\n",
      "2021-10-05 13:44:19.148719: I tensorflow/stream_executor/platform/default/dso_loader.cc:49] Successfully opened dynamic library libcudnn.so.8\n"
     ]
    },
    {
     "name": "stdout",
     "output_type": "stream",
     "text": [
      "148/148 [==============================] - 144s 870ms/step - loss: 27.6138 - mse: 27.6138 - mae: 2.9292\n",
      "Epoch 2/60\n",
      "148/148 [==============================] - 129s 873ms/step - loss: 1.9626 - mse: 1.9626 - mae: 0.8513\n",
      "Epoch 3/60\n",
      "148/148 [==============================] - 129s 872ms/step - loss: 1.0665 - mse: 1.0665 - mae: 0.6458\n",
      "Epoch 4/60\n",
      "148/148 [==============================] - 129s 873ms/step - loss: 0.8464 - mse: 0.8464 - mae: 0.5824\n",
      "Epoch 5/60\n",
      "148/148 [==============================] - 129s 872ms/step - loss: 0.6952 - mse: 0.6952 - mae: 0.5296\n",
      "Epoch 6/60\n",
      "148/148 [==============================] - 129s 872ms/step - loss: 0.6703 - mse: 0.6703 - mae: 0.5162\n",
      "Epoch 7/60\n",
      "148/148 [==============================] - 129s 873ms/step - loss: 0.5945 - mse: 0.5945 - mae: 0.4884\n",
      "Epoch 8/60\n",
      "148/148 [==============================] - 129s 872ms/step - loss: 0.5987 - mse: 0.5987 - mae: 0.4910\n",
      "Epoch 9/60\n",
      "148/148 [==============================] - 129s 872ms/step - loss: 0.5182 - mse: 0.5182 - mae: 0.4578\n",
      "Epoch 10/60\n",
      "148/148 [==============================] - 129s 873ms/step - loss: 0.5013 - mse: 0.5013 - mae: 0.4502\n",
      "Epoch 11/60\n",
      "148/148 [==============================] - 129s 872ms/step - loss: 1.4379 - mse: 1.4379 - mae: 0.5371\n",
      "Epoch 12/60\n",
      "148/148 [==============================] - 129s 872ms/step - loss: 11.1975 - mse: 11.1975 - mae: 1.8683\n",
      "Epoch 13/60\n",
      "148/148 [==============================] - 129s 873ms/step - loss: 1.6419 - mse: 1.6419 - mae: 0.8096\n",
      "Epoch 14/60\n",
      "148/148 [==============================] - 129s 873ms/step - loss: 1.0252 - mse: 1.0252 - mae: 0.6278\n",
      "Epoch 15/60\n",
      "148/148 [==============================] - 129s 872ms/step - loss: 0.8106 - mse: 0.8106 - mae: 0.5637\n",
      "Epoch 16/60\n",
      "148/148 [==============================] - 129s 872ms/step - loss: 0.7333 - mse: 0.7333 - mae: 0.5340\n",
      "Epoch 17/60\n",
      "148/148 [==============================] - 129s 872ms/step - loss: 0.7054 - mse: 0.7054 - mae: 0.5222\n",
      "Epoch 18/60\n",
      "148/148 [==============================] - 129s 873ms/step - loss: 0.6654 - mse: 0.6654 - mae: 0.5100\n",
      "Epoch 19/60\n",
      "148/148 [==============================] - 129s 873ms/step - loss: 0.6031 - mse: 0.6031 - mae: 0.4850\n",
      "Epoch 20/60\n",
      "148/148 [==============================] - 129s 873ms/step - loss: 0.5895 - mse: 0.5895 - mae: 0.4795\n",
      "Epoch 21/60\n",
      "148/148 [==============================] - 129s 873ms/step - loss: 0.5788 - mse: 0.5788 - mae: 0.4736\n",
      "Epoch 22/60\n",
      "148/148 [==============================] - 129s 873ms/step - loss: 0.5997 - mse: 0.5997 - mae: 0.4852\n",
      "Epoch 23/60\n",
      "148/148 [==============================] - 129s 874ms/step - loss: 0.5571 - mse: 0.5571 - mae: 0.4686\n",
      "Epoch 24/60\n",
      "148/148 [==============================] - 129s 873ms/step - loss: 0.5622 - mse: 0.5622 - mae: 0.4625\n",
      "Epoch 25/60\n",
      "148/148 [==============================] - 129s 873ms/step - loss: 1.1442 - mse: 1.1442 - mae: 0.6790\n",
      "Epoch 26/60\n",
      "148/148 [==============================] - 129s 874ms/step - loss: 0.5596 - mse: 0.5596 - mae: 0.4772\n",
      "Epoch 27/60\n",
      "148/148 [==============================] - 129s 873ms/step - loss: 0.4989 - mse: 0.4989 - mae: 0.4536\n",
      "Epoch 28/60\n",
      "148/148 [==============================] - 129s 873ms/step - loss: 0.4856 - mse: 0.4856 - mae: 0.4428\n",
      "Epoch 29/60\n",
      "148/148 [==============================] - 129s 873ms/step - loss: 0.4684 - mse: 0.4684 - mae: 0.4339\n",
      "Epoch 30/60\n",
      "148/148 [==============================] - 129s 873ms/step - loss: 0.4548 - mse: 0.4548 - mae: 0.4297\n",
      "Epoch 31/60\n",
      "148/148 [==============================] - 129s 874ms/step - loss: 0.4219 - mse: 0.4219 - mae: 0.4154\n",
      "Epoch 32/60\n",
      "148/148 [==============================] - 129s 874ms/step - loss: 0.4339 - mse: 0.4339 - mae: 0.4170\n",
      "Epoch 33/60\n",
      "148/148 [==============================] - 129s 874ms/step - loss: 0.3968 - mse: 0.3968 - mae: 0.4029\n",
      "Epoch 34/60\n",
      "148/148 [==============================] - 129s 874ms/step - loss: 0.3943 - mse: 0.3943 - mae: 0.3974\n",
      "Epoch 35/60\n",
      "148/148 [==============================] - 129s 874ms/step - loss: 0.3917 - mse: 0.3917 - mae: 0.4021\n",
      "Epoch 36/60\n",
      "148/148 [==============================] - 129s 874ms/step - loss: 0.3597 - mse: 0.3597 - mae: 0.3869\n",
      "Epoch 37/60\n",
      "148/148 [==============================] - 129s 874ms/step - loss: 0.3839 - mse: 0.3839 - mae: 0.3960\n",
      "Epoch 38/60\n",
      "148/148 [==============================] - 129s 874ms/step - loss: 0.3478 - mse: 0.3478 - mae: 0.3756\n",
      "Epoch 39/60\n",
      "148/148 [==============================] - 129s 875ms/step - loss: 0.3364 - mse: 0.3364 - mae: 0.3711\n",
      "Epoch 40/60\n",
      "148/148 [==============================] - 129s 874ms/step - loss: 0.3401 - mse: 0.3401 - mae: 0.3715\n",
      "Epoch 41/60\n",
      "148/148 [==============================] - 129s 874ms/step - loss: 0.4518 - mse: 0.4518 - mae: 0.4232\n",
      "Epoch 42/60\n",
      "148/148 [==============================] - 129s 874ms/step - loss: 0.3300 - mse: 0.3300 - mae: 0.3689\n",
      "Epoch 43/60\n",
      "148/148 [==============================] - 129s 874ms/step - loss: 0.3389 - mse: 0.3389 - mae: 0.3733\n",
      "Epoch 44/60\n",
      "148/148 [==============================] - 129s 874ms/step - loss: 0.2865 - mse: 0.2865 - mae: 0.3443\n",
      "Epoch 45/60\n",
      "148/148 [==============================] - 129s 874ms/step - loss: 0.2975 - mse: 0.2975 - mae: 0.3503\n",
      "Epoch 46/60\n",
      "148/148 [==============================] - 129s 874ms/step - loss: 0.2951 - mse: 0.2951 - mae: 0.3513\n",
      "Epoch 47/60\n",
      "148/148 [==============================] - 129s 874ms/step - loss: 0.2961 - mse: 0.2961 - mae: 0.3502\n",
      "Epoch 48/60\n",
      "148/148 [==============================] - 129s 873ms/step - loss: 0.2651 - mse: 0.2651 - mae: 0.3313\n",
      "Epoch 49/60\n",
      "148/148 [==============================] - 129s 874ms/step - loss: 0.4254 - mse: 0.4254 - mae: 0.4033\n",
      "Epoch 50/60\n",
      "148/148 [==============================] - 129s 875ms/step - loss: 0.2885 - mse: 0.2885 - mae: 0.3460\n",
      "Epoch 51/60\n",
      "148/148 [==============================] - 129s 874ms/step - loss: 0.2801 - mse: 0.2801 - mae: 0.3423\n",
      "Epoch 52/60\n",
      "148/148 [==============================] - 129s 874ms/step - loss: 0.2596 - mse: 0.2596 - mae: 0.3277\n",
      "Epoch 53/60\n",
      "148/148 [==============================] - 129s 874ms/step - loss: 0.2451 - mse: 0.2451 - mae: 0.3205\n",
      "Epoch 54/60\n",
      "148/148 [==============================] - 129s 874ms/step - loss: 0.2298 - mse: 0.2298 - mae: 0.3085\n",
      "Epoch 55/60\n",
      "148/148 [==============================] - 129s 874ms/step - loss: 0.2573 - mse: 0.2573 - mae: 0.3256\n",
      "Epoch 56/60\n",
      "148/148 [==============================] - 129s 874ms/step - loss: 0.2314 - mse: 0.2314 - mae: 0.3093\n",
      "Epoch 57/60\n",
      "148/148 [==============================] - 129s 874ms/step - loss: 0.2185 - mse: 0.2185 - mae: 0.3023\n",
      "Epoch 58/60\n",
      "148/148 [==============================] - 129s 874ms/step - loss: 0.2201 - mse: 0.2201 - mae: 0.3021\n",
      "Epoch 59/60\n",
      "148/148 [==============================] - 129s 873ms/step - loss: 0.2365 - mse: 0.2365 - mae: 0.3130\n",
      "Epoch 60/60\n",
      "148/148 [==============================] - 129s 873ms/step - loss: 0.2459 - mse: 0.2459 - mae: 0.3145\n"
     ]
    }
   ],
   "source": [
    "model = get_model()\n",
    "history = model.fit(X_train, y_train,  \n",
    "              epochs=60, batch_size=512,\n",
    "              verbose=1, callbacks=[model_checkpoint_callback])"
   ]
  },
  {
   "cell_type": "code",
   "execution_count": 17,
   "id": "daf40390",
   "metadata": {
    "execution": {
     "iopub.execute_input": "2021-10-05T15:54:04.953716Z",
     "iopub.status.busy": "2021-10-05T15:54:04.953081Z",
     "iopub.status.idle": "2021-10-05T15:54:05.182097Z",
     "shell.execute_reply": "2021-10-05T15:54:05.181617Z"
    },
    "papermill": {
     "duration": 2.630252,
     "end_time": "2021-10-05T15:54:05.182218",
     "exception": false,
     "start_time": "2021-10-05T15:54:02.551966",
     "status": "completed"
    },
    "tags": []
   },
   "outputs": [
    {
     "data": {
      "image/png": "[encoded data removed]",
      "text/plain": [
       "<Figure size 1080x360 with 1 Axes>"
      ]
     },
     "metadata": {
      "needs_background": "light"
     },
     "output_type": "display_data"
    }
   ],
   "source": [
    "plt.figure(figsize=(15,5))\n",
    "loss=history.history['loss']\n",
    "#val_loss=history.history['val_loss']\n",
    "epoch = range(1,len(loss)+1)\n",
    "plt.plot(epoch, loss, 'r' , label=\"Training\")\n",
    "#plt.plot(epoch, val_loss, 'b', label=\"Validation\")\n",
    "plt.legend()\n",
    "plt.xlabel(\"Epochs\")\n",
    "plt.ylabel(\"Loss\")\n",
    "plt.title('Training loss')\n",
    "plt.show()"
   ]
  },
  {
   "cell_type": "markdown",
   "id": "a120d565",
   "metadata": {
    "papermill": {
     "duration": 2.360696,
     "end_time": "2021-10-05T15:54:09.892415",
     "exception": false,
     "start_time": "2021-10-05T15:54:07.531719",
     "status": "completed"
    },
    "tags": []
   },
   "source": [
    "# Final predictions of test pressures"
   ]
  },
  {
   "cell_type": "code",
   "execution_count": 18,
   "id": "748e91fb",
   "metadata": {
    "execution": {
     "iopub.execute_input": "2021-10-05T15:54:15.511931Z",
     "iopub.status.busy": "2021-10-05T15:54:15.511071Z",
     "iopub.status.idle": "2021-10-05T15:55:29.003389Z",
     "shell.execute_reply": "2021-10-05T15:55:29.002920Z"
    },
    "papermill": {
     "duration": 75.885358,
     "end_time": "2021-10-05T15:55:29.003521",
     "exception": false,
     "start_time": "2021-10-05T15:54:13.118163",
     "status": "completed"
    },
    "tags": []
   },
   "outputs": [],
   "source": [
    "model.load_weights(checkpoint_filepath)\n",
    "y_pred_test = model.predict(X_test).squeeze().reshape(-1, 1).squeeze()#sum(test_predictions)/5"
   ]
  },
  {
   "cell_type": "code",
   "execution_count": 19,
   "id": "29ff7b8f",
   "metadata": {
    "execution": {
     "iopub.execute_input": "2021-10-05T15:55:33.678343Z",
     "iopub.status.busy": "2021-10-05T15:55:33.676842Z",
     "iopub.status.idle": "2021-10-05T15:55:43.689988Z",
     "shell.execute_reply": "2021-10-05T15:55:43.689489Z"
    },
    "papermill": {
     "duration": 12.348286,
     "end_time": "2021-10-05T15:55:43.690121",
     "exception": false,
     "start_time": "2021-10-05T15:55:31.341835",
     "status": "completed"
    },
    "tags": []
   },
   "outputs": [],
   "source": [
    "output = pd.DataFrame({'id': test_data.index, 'pressure': y_pred_test})\n",
    "output.to_csv('submission.csv', index=False)"
   ]
  }
 ],
 "metadata": {
  "kernelspec": {
   "display_name": "Python 3",
   "language": "python",
   "name": "python3"
  },
  "language_info": {
   "codemirror_mode": {
    "name": "ipython",
    "version": 3
   },
   "file_extension": ".py",
   "mimetype": "text/x-python",
   "name": "python",
   "nbconvert_exporter": "python",
   "pygments_lexer": "ipython3",
   "version": "3.7.10"
  },
  "papermill": {
   "default_parameters": {},
   "duration": 7937.022746,
   "end_time": "2021-10-05T15:55:49.699131",
   "environment_variables": {},
   "exception": null,
   "input_path": "__notebook__.ipynb",
   "output_path": "__notebook__.ipynb",
   "parameters": {},
   "start_time": "2021-10-05T13:43:32.676385",
   "version": "2.3.3"
  }
 },
 "nbformat": 4,
 "nbformat_minor": 5
}
